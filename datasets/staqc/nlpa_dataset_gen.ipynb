{
  "nbformat": 4,
  "nbformat_minor": 0,
  "metadata": {
    "colab": {
      "provenance": [],
      "gpuType": "T4"
    },
    "kernelspec": {
      "name": "python3",
      "display_name": "Python 3"
    },
    "language_info": {
      "name": "python"
    },
    "widgets": {
      "application/vnd.jupyter.widget-state+json": {
        "7f7ae2511fd4455eadf00db3cec67d1e": {
          "model_module": "@jupyter-widgets/controls",
          "model_name": "HBoxModel",
          "model_module_version": "1.5.0",
          "state": {
            "_dom_classes": [],
            "_model_module": "@jupyter-widgets/controls",
            "_model_module_version": "1.5.0",
            "_model_name": "HBoxModel",
            "_view_count": null,
            "_view_module": "@jupyter-widgets/controls",
            "_view_module_version": "1.5.0",
            "_view_name": "HBoxView",
            "box_style": "",
            "children": [
              "IPY_MODEL_f62541e2c9194f2bb448c194fc4f2b40",
              "IPY_MODEL_6252b19b1aab49c589137aa08d0fa111",
              "IPY_MODEL_851597046ea44e7480e88c1bdc855a2b"
            ],
            "layout": "IPY_MODEL_405b19abf1fc4819bbf62c2901865712"
          }
        },
        "f62541e2c9194f2bb448c194fc4f2b40": {
          "model_module": "@jupyter-widgets/controls",
          "model_name": "HTMLModel",
          "model_module_version": "1.5.0",
          "state": {
            "_dom_classes": [],
            "_model_module": "@jupyter-widgets/controls",
            "_model_module_version": "1.5.0",
            "_model_name": "HTMLModel",
            "_view_count": null,
            "_view_module": "@jupyter-widgets/controls",
            "_view_module_version": "1.5.0",
            "_view_name": "HTMLView",
            "description": "",
            "description_tooltip": null,
            "layout": "IPY_MODEL_f1e440b8d1d54944beeedd537e0e20a0",
            "placeholder": "​",
            "style": "IPY_MODEL_98d23f1a75264ca39a53e761a4b3b8c2",
            "value": "Saving the dataset (1/1 shards): 100%"
          }
        },
        "6252b19b1aab49c589137aa08d0fa111": {
          "model_module": "@jupyter-widgets/controls",
          "model_name": "FloatProgressModel",
          "model_module_version": "1.5.0",
          "state": {
            "_dom_classes": [],
            "_model_module": "@jupyter-widgets/controls",
            "_model_module_version": "1.5.0",
            "_model_name": "FloatProgressModel",
            "_view_count": null,
            "_view_module": "@jupyter-widgets/controls",
            "_view_module_version": "1.5.0",
            "_view_name": "ProgressView",
            "bar_style": "success",
            "description": "",
            "description_tooltip": null,
            "layout": "IPY_MODEL_f43a8153c7de47819fb4504a940b9107",
            "max": 3694,
            "min": 0,
            "orientation": "horizontal",
            "style": "IPY_MODEL_72316bf7caa64da097ca89fc597c71b0",
            "value": 3694
          }
        },
        "851597046ea44e7480e88c1bdc855a2b": {
          "model_module": "@jupyter-widgets/controls",
          "model_name": "HTMLModel",
          "model_module_version": "1.5.0",
          "state": {
            "_dom_classes": [],
            "_model_module": "@jupyter-widgets/controls",
            "_model_module_version": "1.5.0",
            "_model_name": "HTMLModel",
            "_view_count": null,
            "_view_module": "@jupyter-widgets/controls",
            "_view_module_version": "1.5.0",
            "_view_name": "HTMLView",
            "description": "",
            "description_tooltip": null,
            "layout": "IPY_MODEL_8363e728ceed4135bff080fbec143740",
            "placeholder": "​",
            "style": "IPY_MODEL_635121ebd7104586abc16cb558b1801f",
            "value": " 3694/3694 [00:00&lt;00:00, 61815.31 examples/s]"
          }
        },
        "405b19abf1fc4819bbf62c2901865712": {
          "model_module": "@jupyter-widgets/base",
          "model_name": "LayoutModel",
          "model_module_version": "1.2.0",
          "state": {
            "_model_module": "@jupyter-widgets/base",
            "_model_module_version": "1.2.0",
            "_model_name": "LayoutModel",
            "_view_count": null,
            "_view_module": "@jupyter-widgets/base",
            "_view_module_version": "1.2.0",
            "_view_name": "LayoutView",
            "align_content": null,
            "align_items": null,
            "align_self": null,
            "border": null,
            "bottom": null,
            "display": null,
            "flex": null,
            "flex_flow": null,
            "grid_area": null,
            "grid_auto_columns": null,
            "grid_auto_flow": null,
            "grid_auto_rows": null,
            "grid_column": null,
            "grid_gap": null,
            "grid_row": null,
            "grid_template_areas": null,
            "grid_template_columns": null,
            "grid_template_rows": null,
            "height": null,
            "justify_content": null,
            "justify_items": null,
            "left": null,
            "margin": null,
            "max_height": null,
            "max_width": null,
            "min_height": null,
            "min_width": null,
            "object_fit": null,
            "object_position": null,
            "order": null,
            "overflow": null,
            "overflow_x": null,
            "overflow_y": null,
            "padding": null,
            "right": null,
            "top": null,
            "visibility": null,
            "width": null
          }
        },
        "f1e440b8d1d54944beeedd537e0e20a0": {
          "model_module": "@jupyter-widgets/base",
          "model_name": "LayoutModel",
          "model_module_version": "1.2.0",
          "state": {
            "_model_module": "@jupyter-widgets/base",
            "_model_module_version": "1.2.0",
            "_model_name": "LayoutModel",
            "_view_count": null,
            "_view_module": "@jupyter-widgets/base",
            "_view_module_version": "1.2.0",
            "_view_name": "LayoutView",
            "align_content": null,
            "align_items": null,
            "align_self": null,
            "border": null,
            "bottom": null,
            "display": null,
            "flex": null,
            "flex_flow": null,
            "grid_area": null,
            "grid_auto_columns": null,
            "grid_auto_flow": null,
            "grid_auto_rows": null,
            "grid_column": null,
            "grid_gap": null,
            "grid_row": null,
            "grid_template_areas": null,
            "grid_template_columns": null,
            "grid_template_rows": null,
            "height": null,
            "justify_content": null,
            "justify_items": null,
            "left": null,
            "margin": null,
            "max_height": null,
            "max_width": null,
            "min_height": null,
            "min_width": null,
            "object_fit": null,
            "object_position": null,
            "order": null,
            "overflow": null,
            "overflow_x": null,
            "overflow_y": null,
            "padding": null,
            "right": null,
            "top": null,
            "visibility": null,
            "width": null
          }
        },
        "98d23f1a75264ca39a53e761a4b3b8c2": {
          "model_module": "@jupyter-widgets/controls",
          "model_name": "DescriptionStyleModel",
          "model_module_version": "1.5.0",
          "state": {
            "_model_module": "@jupyter-widgets/controls",
            "_model_module_version": "1.5.0",
            "_model_name": "DescriptionStyleModel",
            "_view_count": null,
            "_view_module": "@jupyter-widgets/base",
            "_view_module_version": "1.2.0",
            "_view_name": "StyleView",
            "description_width": ""
          }
        },
        "f43a8153c7de47819fb4504a940b9107": {
          "model_module": "@jupyter-widgets/base",
          "model_name": "LayoutModel",
          "model_module_version": "1.2.0",
          "state": {
            "_model_module": "@jupyter-widgets/base",
            "_model_module_version": "1.2.0",
            "_model_name": "LayoutModel",
            "_view_count": null,
            "_view_module": "@jupyter-widgets/base",
            "_view_module_version": "1.2.0",
            "_view_name": "LayoutView",
            "align_content": null,
            "align_items": null,
            "align_self": null,
            "border": null,
            "bottom": null,
            "display": null,
            "flex": null,
            "flex_flow": null,
            "grid_area": null,
            "grid_auto_columns": null,
            "grid_auto_flow": null,
            "grid_auto_rows": null,
            "grid_column": null,
            "grid_gap": null,
            "grid_row": null,
            "grid_template_areas": null,
            "grid_template_columns": null,
            "grid_template_rows": null,
            "height": null,
            "justify_content": null,
            "justify_items": null,
            "left": null,
            "margin": null,
            "max_height": null,
            "max_width": null,
            "min_height": null,
            "min_width": null,
            "object_fit": null,
            "object_position": null,
            "order": null,
            "overflow": null,
            "overflow_x": null,
            "overflow_y": null,
            "padding": null,
            "right": null,
            "top": null,
            "visibility": null,
            "width": null
          }
        },
        "72316bf7caa64da097ca89fc597c71b0": {
          "model_module": "@jupyter-widgets/controls",
          "model_name": "ProgressStyleModel",
          "model_module_version": "1.5.0",
          "state": {
            "_model_module": "@jupyter-widgets/controls",
            "_model_module_version": "1.5.0",
            "_model_name": "ProgressStyleModel",
            "_view_count": null,
            "_view_module": "@jupyter-widgets/base",
            "_view_module_version": "1.2.0",
            "_view_name": "StyleView",
            "bar_color": null,
            "description_width": ""
          }
        },
        "8363e728ceed4135bff080fbec143740": {
          "model_module": "@jupyter-widgets/base",
          "model_name": "LayoutModel",
          "model_module_version": "1.2.0",
          "state": {
            "_model_module": "@jupyter-widgets/base",
            "_model_module_version": "1.2.0",
            "_model_name": "LayoutModel",
            "_view_count": null,
            "_view_module": "@jupyter-widgets/base",
            "_view_module_version": "1.2.0",
            "_view_name": "LayoutView",
            "align_content": null,
            "align_items": null,
            "align_self": null,
            "border": null,
            "bottom": null,
            "display": null,
            "flex": null,
            "flex_flow": null,
            "grid_area": null,
            "grid_auto_columns": null,
            "grid_auto_flow": null,
            "grid_auto_rows": null,
            "grid_column": null,
            "grid_gap": null,
            "grid_row": null,
            "grid_template_areas": null,
            "grid_template_columns": null,
            "grid_template_rows": null,
            "height": null,
            "justify_content": null,
            "justify_items": null,
            "left": null,
            "margin": null,
            "max_height": null,
            "max_width": null,
            "min_height": null,
            "min_width": null,
            "object_fit": null,
            "object_position": null,
            "order": null,
            "overflow": null,
            "overflow_x": null,
            "overflow_y": null,
            "padding": null,
            "right": null,
            "top": null,
            "visibility": null,
            "width": null
          }
        },
        "635121ebd7104586abc16cb558b1801f": {
          "model_module": "@jupyter-widgets/controls",
          "model_name": "DescriptionStyleModel",
          "model_module_version": "1.5.0",
          "state": {
            "_model_module": "@jupyter-widgets/controls",
            "_model_module_version": "1.5.0",
            "_model_name": "DescriptionStyleModel",
            "_view_count": null,
            "_view_module": "@jupyter-widgets/base",
            "_view_module_version": "1.2.0",
            "_view_name": "StyleView",
            "description_width": ""
          }
        },
        "bb994083c3f24ee89745ddee8183d7f1": {
          "model_module": "@jupyter-widgets/controls",
          "model_name": "HBoxModel",
          "model_module_version": "1.5.0",
          "state": {
            "_dom_classes": [],
            "_model_module": "@jupyter-widgets/controls",
            "_model_module_version": "1.5.0",
            "_model_name": "HBoxModel",
            "_view_count": null,
            "_view_module": "@jupyter-widgets/controls",
            "_view_module_version": "1.5.0",
            "_view_name": "HBoxView",
            "box_style": "",
            "children": [
              "IPY_MODEL_55d3118607bd43afb3dd55cca6bba91d",
              "IPY_MODEL_f28041ae0057477b8bdfcce50419e663",
              "IPY_MODEL_599930cfcea24fd587265cf4fd9e2b80"
            ],
            "layout": "IPY_MODEL_12cd35a2fcaa4bbe8d35cdd61b84dbbb"
          }
        },
        "55d3118607bd43afb3dd55cca6bba91d": {
          "model_module": "@jupyter-widgets/controls",
          "model_name": "HTMLModel",
          "model_module_version": "1.5.0",
          "state": {
            "_dom_classes": [],
            "_model_module": "@jupyter-widgets/controls",
            "_model_module_version": "1.5.0",
            "_model_name": "HTMLModel",
            "_view_count": null,
            "_view_module": "@jupyter-widgets/controls",
            "_view_module_version": "1.5.0",
            "_view_name": "HTMLView",
            "description": "",
            "description_tooltip": null,
            "layout": "IPY_MODEL_237f4e27f437487cabc82375e986f062",
            "placeholder": "​",
            "style": "IPY_MODEL_515764a220d74ae3a85550fdbb474c14",
            "value": "Saving the dataset (1/1 shards): 100%"
          }
        },
        "f28041ae0057477b8bdfcce50419e663": {
          "model_module": "@jupyter-widgets/controls",
          "model_name": "FloatProgressModel",
          "model_module_version": "1.5.0",
          "state": {
            "_dom_classes": [],
            "_model_module": "@jupyter-widgets/controls",
            "_model_module_version": "1.5.0",
            "_model_name": "FloatProgressModel",
            "_view_count": null,
            "_view_module": "@jupyter-widgets/controls",
            "_view_module_version": "1.5.0",
            "_view_name": "ProgressView",
            "bar_style": "success",
            "description": "",
            "description_tooltip": null,
            "layout": "IPY_MODEL_6451c37a9ac644ada317638a3408f080",
            "max": 410,
            "min": 0,
            "orientation": "horizontal",
            "style": "IPY_MODEL_9b39bcff130c4e84bd87fbd4f1939eb4",
            "value": 410
          }
        },
        "599930cfcea24fd587265cf4fd9e2b80": {
          "model_module": "@jupyter-widgets/controls",
          "model_name": "HTMLModel",
          "model_module_version": "1.5.0",
          "state": {
            "_dom_classes": [],
            "_model_module": "@jupyter-widgets/controls",
            "_model_module_version": "1.5.0",
            "_model_name": "HTMLModel",
            "_view_count": null,
            "_view_module": "@jupyter-widgets/controls",
            "_view_module_version": "1.5.0",
            "_view_name": "HTMLView",
            "description": "",
            "description_tooltip": null,
            "layout": "IPY_MODEL_6cd2ebb88933481e95f515b7038a301f",
            "placeholder": "​",
            "style": "IPY_MODEL_f1b2ff2767ca46278759044c8d465c9f",
            "value": " 410/410 [00:00&lt;00:00, 12920.77 examples/s]"
          }
        },
        "12cd35a2fcaa4bbe8d35cdd61b84dbbb": {
          "model_module": "@jupyter-widgets/base",
          "model_name": "LayoutModel",
          "model_module_version": "1.2.0",
          "state": {
            "_model_module": "@jupyter-widgets/base",
            "_model_module_version": "1.2.0",
            "_model_name": "LayoutModel",
            "_view_count": null,
            "_view_module": "@jupyter-widgets/base",
            "_view_module_version": "1.2.0",
            "_view_name": "LayoutView",
            "align_content": null,
            "align_items": null,
            "align_self": null,
            "border": null,
            "bottom": null,
            "display": null,
            "flex": null,
            "flex_flow": null,
            "grid_area": null,
            "grid_auto_columns": null,
            "grid_auto_flow": null,
            "grid_auto_rows": null,
            "grid_column": null,
            "grid_gap": null,
            "grid_row": null,
            "grid_template_areas": null,
            "grid_template_columns": null,
            "grid_template_rows": null,
            "height": null,
            "justify_content": null,
            "justify_items": null,
            "left": null,
            "margin": null,
            "max_height": null,
            "max_width": null,
            "min_height": null,
            "min_width": null,
            "object_fit": null,
            "object_position": null,
            "order": null,
            "overflow": null,
            "overflow_x": null,
            "overflow_y": null,
            "padding": null,
            "right": null,
            "top": null,
            "visibility": null,
            "width": null
          }
        },
        "237f4e27f437487cabc82375e986f062": {
          "model_module": "@jupyter-widgets/base",
          "model_name": "LayoutModel",
          "model_module_version": "1.2.0",
          "state": {
            "_model_module": "@jupyter-widgets/base",
            "_model_module_version": "1.2.0",
            "_model_name": "LayoutModel",
            "_view_count": null,
            "_view_module": "@jupyter-widgets/base",
            "_view_module_version": "1.2.0",
            "_view_name": "LayoutView",
            "align_content": null,
            "align_items": null,
            "align_self": null,
            "border": null,
            "bottom": null,
            "display": null,
            "flex": null,
            "flex_flow": null,
            "grid_area": null,
            "grid_auto_columns": null,
            "grid_auto_flow": null,
            "grid_auto_rows": null,
            "grid_column": null,
            "grid_gap": null,
            "grid_row": null,
            "grid_template_areas": null,
            "grid_template_columns": null,
            "grid_template_rows": null,
            "height": null,
            "justify_content": null,
            "justify_items": null,
            "left": null,
            "margin": null,
            "max_height": null,
            "max_width": null,
            "min_height": null,
            "min_width": null,
            "object_fit": null,
            "object_position": null,
            "order": null,
            "overflow": null,
            "overflow_x": null,
            "overflow_y": null,
            "padding": null,
            "right": null,
            "top": null,
            "visibility": null,
            "width": null
          }
        },
        "515764a220d74ae3a85550fdbb474c14": {
          "model_module": "@jupyter-widgets/controls",
          "model_name": "DescriptionStyleModel",
          "model_module_version": "1.5.0",
          "state": {
            "_model_module": "@jupyter-widgets/controls",
            "_model_module_version": "1.5.0",
            "_model_name": "DescriptionStyleModel",
            "_view_count": null,
            "_view_module": "@jupyter-widgets/base",
            "_view_module_version": "1.2.0",
            "_view_name": "StyleView",
            "description_width": ""
          }
        },
        "6451c37a9ac644ada317638a3408f080": {
          "model_module": "@jupyter-widgets/base",
          "model_name": "LayoutModel",
          "model_module_version": "1.2.0",
          "state": {
            "_model_module": "@jupyter-widgets/base",
            "_model_module_version": "1.2.0",
            "_model_name": "LayoutModel",
            "_view_count": null,
            "_view_module": "@jupyter-widgets/base",
            "_view_module_version": "1.2.0",
            "_view_name": "LayoutView",
            "align_content": null,
            "align_items": null,
            "align_self": null,
            "border": null,
            "bottom": null,
            "display": null,
            "flex": null,
            "flex_flow": null,
            "grid_area": null,
            "grid_auto_columns": null,
            "grid_auto_flow": null,
            "grid_auto_rows": null,
            "grid_column": null,
            "grid_gap": null,
            "grid_row": null,
            "grid_template_areas": null,
            "grid_template_columns": null,
            "grid_template_rows": null,
            "height": null,
            "justify_content": null,
            "justify_items": null,
            "left": null,
            "margin": null,
            "max_height": null,
            "max_width": null,
            "min_height": null,
            "min_width": null,
            "object_fit": null,
            "object_position": null,
            "order": null,
            "overflow": null,
            "overflow_x": null,
            "overflow_y": null,
            "padding": null,
            "right": null,
            "top": null,
            "visibility": null,
            "width": null
          }
        },
        "9b39bcff130c4e84bd87fbd4f1939eb4": {
          "model_module": "@jupyter-widgets/controls",
          "model_name": "ProgressStyleModel",
          "model_module_version": "1.5.0",
          "state": {
            "_model_module": "@jupyter-widgets/controls",
            "_model_module_version": "1.5.0",
            "_model_name": "ProgressStyleModel",
            "_view_count": null,
            "_view_module": "@jupyter-widgets/base",
            "_view_module_version": "1.2.0",
            "_view_name": "StyleView",
            "bar_color": null,
            "description_width": ""
          }
        },
        "6cd2ebb88933481e95f515b7038a301f": {
          "model_module": "@jupyter-widgets/base",
          "model_name": "LayoutModel",
          "model_module_version": "1.2.0",
          "state": {
            "_model_module": "@jupyter-widgets/base",
            "_model_module_version": "1.2.0",
            "_model_name": "LayoutModel",
            "_view_count": null,
            "_view_module": "@jupyter-widgets/base",
            "_view_module_version": "1.2.0",
            "_view_name": "LayoutView",
            "align_content": null,
            "align_items": null,
            "align_self": null,
            "border": null,
            "bottom": null,
            "display": null,
            "flex": null,
            "flex_flow": null,
            "grid_area": null,
            "grid_auto_columns": null,
            "grid_auto_flow": null,
            "grid_auto_rows": null,
            "grid_column": null,
            "grid_gap": null,
            "grid_row": null,
            "grid_template_areas": null,
            "grid_template_columns": null,
            "grid_template_rows": null,
            "height": null,
            "justify_content": null,
            "justify_items": null,
            "left": null,
            "margin": null,
            "max_height": null,
            "max_width": null,
            "min_height": null,
            "min_width": null,
            "object_fit": null,
            "object_position": null,
            "order": null,
            "overflow": null,
            "overflow_x": null,
            "overflow_y": null,
            "padding": null,
            "right": null,
            "top": null,
            "visibility": null,
            "width": null
          }
        },
        "f1b2ff2767ca46278759044c8d465c9f": {
          "model_module": "@jupyter-widgets/controls",
          "model_name": "DescriptionStyleModel",
          "model_module_version": "1.5.0",
          "state": {
            "_model_module": "@jupyter-widgets/controls",
            "_model_module_version": "1.5.0",
            "_model_name": "DescriptionStyleModel",
            "_view_count": null,
            "_view_module": "@jupyter-widgets/base",
            "_view_module_version": "1.2.0",
            "_view_name": "StyleView",
            "description_width": ""
          }
        }
      }
    },
    "accelerator": "GPU"
  },
  "cells": [
    {
      "cell_type": "code",
      "execution_count": null,
      "metadata": {
        "id": "gE4SYcMWYkGD"
      },
      "outputs": [],
      "source": [
        "!pip install -q datasets transformers accelerate"
      ]
    },
    {
      "cell_type": "markdown",
      "source": [
        "## Load dataset"
      ],
      "metadata": {
        "id": "Zfv-d6qAysxk"
      }
    },
    {
      "cell_type": "code",
      "source": [
        "from datasets import load_dataset, concatenate_datasets, load_from_disk"
      ],
      "metadata": {
        "id": "9f0JDw3yKrfI"
      },
      "execution_count": null,
      "outputs": []
    },
    {
      "cell_type": "code",
      "source": [
        "dataset = load_dataset(\"koutch/staqc\", 'man_python')\n",
        "\n",
        "train_test_split = .1\n",
        "label_human = 0\n",
        "label_generated = 1\n",
        "\n",
        "\n",
        "def convert_item(item, label=label_human):\n",
        "    return {\n",
        "        'question_id': item['question_id'],\n",
        "        'question': item['question'],\n",
        "        'text': item['snippet']['text'][0],\n",
        "        'label': label\n",
        "    }\n",
        "\n",
        "\n",
        "def preprocess_dataset(dataset):\n",
        "    return dataset.sort('question_id').map(convert_item, remove_columns=['snippet']).shuffle(42618)\n",
        "\n",
        "\n",
        "def split_dataset(dataset):\n",
        "    n = len(dataset['train'])\n",
        "    splitsep = int(n * train_test_split)\n",
        "\n",
        "    dataset['test'] = dataset['train'].select(range(splitsep))\n",
        "    dataset['train'] = dataset['train'].select(range(splitsep, n))\n",
        "\n",
        "    return dataset\n",
        "\n",
        "\n",
        "dataset = preprocess_dataset(dataset)\n",
        "\n",
        "print(dataset)"
      ],
      "metadata": {
        "colab": {
          "base_uri": "https://localhost:8080/"
        },
        "id": "rJBLdiI6trBf",
        "outputId": "f6da8174-f3cc-4c12-b06b-7568bbc74f49"
      },
      "execution_count": null,
      "outputs": [
        {
          "output_type": "stream",
          "name": "stdout",
          "text": [
            "DatasetDict({\n",
            "    train: Dataset({\n",
            "        features: ['question_id', 'question', 'text', 'label'],\n",
            "        num_rows: 2052\n",
            "    })\n",
            "})\n"
          ]
        }
      ]
    },
    {
      "cell_type": "code",
      "source": [
        "q0 = dataset['train'][0]\n",
        "q0"
      ],
      "metadata": {
        "colab": {
          "base_uri": "https://localhost:8080/"
        },
        "id": "IEVHCdawYoW7",
        "outputId": "bbda908e-6a36-4eb3-916d-4da91a5f4672"
      },
      "execution_count": null,
      "outputs": [
        {
          "output_type": "execute_result",
          "data": {
            "text/plain": [
              "{'question_id': 21219262,\n",
              " 'question': 'Defining the name of a ManyToOne relationship in Django',\n",
              " 'text': \"class SpecificUserProfile(UserProfile):\\n    referrer = models.ForeignKey('self', related_name='referred')\\n\",\n",
              " 'label': 0}"
            ]
          },
          "metadata": {},
          "execution_count": 27
        }
      ]
    },
    {
      "cell_type": "markdown",
      "source": [
        "## Generate dataset"
      ],
      "metadata": {
        "id": "GWHPp0o7yvj_"
      }
    },
    {
      "cell_type": "code",
      "source": [
        "from transformers import pipeline, set_seed, AutoModelForCausalLM, AutoTokenizer\n",
        "\n",
        "checkpoint = \"Salesforce/codegen-350M-mono\"\n",
        "model = AutoModelForCausalLM.from_pretrained(checkpoint, device_map=\"auto\")\n",
        "tokenizer = AutoTokenizer.from_pretrained(checkpoint, device_map=\"auto\", padding_side='left')\n",
        "print(model.device)"
      ],
      "metadata": {
        "colab": {
          "base_uri": "https://localhost:8080/"
        },
        "id": "E_V8mbNI0ZcR",
        "outputId": "7bafe662-5897-4296-ebb8-f0b81f97fa07"
      },
      "execution_count": null,
      "outputs": [
        {
          "output_type": "stream",
          "name": "stderr",
          "text": [
            "Special tokens have been added in the vocabulary, make sure the associated word embeddings are fine-tuned or trained.\n"
          ]
        },
        {
          "output_type": "stream",
          "name": "stdout",
          "text": [
            "cuda:0\n"
          ]
        }
      ]
    },
    {
      "cell_type": "code",
      "source": [
        "generator = pipeline('text-generation', model=model, tokenizer=tokenizer)\n",
        "generator.tokenizer.pad_token_id = model.config.eos_token_id\n",
        "set_seed(42618)"
      ],
      "metadata": {
        "id": "CunAC25J3XMC"
      },
      "execution_count": null,
      "outputs": []
    },
    {
      "cell_type": "code",
      "source": [
        "n_batch = 8\n",
        "preproc = lambda s: f'# {s}\\n\\n'\n",
        "texts = [preproc(dataset['train'][i]['question']) for i in range(n_batch)]\n",
        "print(''.join(texts))"
      ],
      "metadata": {
        "colab": {
          "base_uri": "https://localhost:8080/"
        },
        "id": "jz9Y0lWp4yLZ",
        "outputId": "6081f67c-6cb2-4e7d-dd84-d61614081a28"
      },
      "execution_count": null,
      "outputs": [
        {
          "output_type": "stream",
          "name": "stdout",
          "text": [
            "# Defining the name of a ManyToOne relationship in Django\n",
            "\n",
            "# How to parse the header files of the pcap file?\n",
            "\n",
            "# Joining fields values\n",
            "\n",
            "# How to avoid defining a variable to hold a function result which might be needed only once\n",
            "\n",
            "# Parsing structured text file in python\n",
            "\n",
            "# django-mptt get_descendants for a list of nodes\n",
            "\n",
            "# dict of internal keys\n",
            "\n",
            "# Efficiently detect sign-changes in python\n",
            "\n",
            "\n"
          ]
        }
      ]
    },
    {
      "cell_type": "code",
      "source": [
        "results = generator(texts, max_length=256, num_return_sequences=1, batch_size=n_batch)"
      ],
      "metadata": {
        "colab": {
          "base_uri": "https://localhost:8080/"
        },
        "id": "6sqt1GmW20uv",
        "outputId": "8f3ab9c8-77d1-4282-af48-c688e82b67c5"
      },
      "execution_count": null,
      "outputs": [
        {
          "output_type": "stream",
          "name": "stderr",
          "text": [
            "Setting `pad_token_id` to `eos_token_id`:50256 for open-end generation.\n"
          ]
        }
      ]
    },
    {
      "cell_type": "code",
      "source": [
        "def preproc_answer(s):\n",
        "    return s[s.index('\\n'):].strip()\n",
        "\n",
        "\n",
        "for i, r in enumerate(results):\n",
        "    res = preproc_answer(r[0]['generated_text'])\n",
        "\n",
        "    print(f'{i}. Question:', texts[i].strip())\n",
        "    print(f'{i}. Answer:\\n' + res)"
      ],
      "metadata": {
        "colab": {
          "base_uri": "https://localhost:8080/"
        },
        "id": "TXDOtJmF6upe",
        "outputId": "745e406b-b6e4-492d-9f10-68a880e96602"
      },
      "execution_count": null,
      "outputs": [
        {
          "output_type": "stream",
          "name": "stdout",
          "text": [
            "0. Question: # Defining the name of a ManyToOne relationship in Django\n",
            "0. Answer:\n",
            "class Book(models.Model):\n",
            "    title = models.CharField(max_length=255)\n",
            "    desc = models.TextField()\n",
            "    uploaded_by = models.ForeignKey(User, related_name=\"books_uploaded\", on_delete=models.CASCADE)\n",
            "    uploaded_on = models.DateTimeField(auto_now_add=True)\n",
            "\n",
            "\n",
            "class Author(models.Model):\n",
            "    name = models.CharField(max_length=255)\n",
            "    birth = models.DateField(null=True, blank=True)\n",
            "    description = models.TextField()\n",
            "1. Question: # How to parse the header files of the pcap file?\n",
            "1. Answer:\n",
            "from scapy.config import conf\n",
            "from scapy.packet import *\n",
            "from random import randrange\n",
            "from sys import argv\n",
            "\n",
            "# Choose the file of the data.\n",
            "mode = 'w' if len(argv) > 1 else 'r'\n",
            "if len(argv) > 1:\n",
            "    dir_ = argv[1]\n",
            "    fname = argv[2] + '.pcap'\n",
            "else:\n",
            "    dir_ = '.'\n",
            "    fname = './' + argv[0].lower()\n",
            "\n",
            "def read_lines(file, mode=mode):\n",
            "    \"\"\"\n",
            "    Read lines from a log file and convert them to a list of packets.\n",
            "\n",
            "    The parameter mode can be:\n",
            "      o mode=='r': the whole log file is read, or a log file splitted\n",
            "      by a newline character. 'a' opens the file for writting contents into\n",
            "      the file, default: 'r'. If no mode is given, it is 'a' open for\n",
            "      reading. The file with the same name is automatically created according\n",
            "2. Question: # Joining fields values\n",
            "2. Answer:\n",
            "# pyspark app for data streaming using databricks\n",
            "# The data source is a k-means clustering dataset\n",
            "# https://docs.databricks.com/spark/latest/databricks-app-developer-guide/k-means-clustering.html\n",
            "\n",
            "# Create a kmeans clustering\n",
            "import os\n",
            "from kmeans import *\n",
            "\n",
            "# create kmeans object\n",
            "kmeans_obj = KMeans()\n",
            "\n",
            "# Read the data from a file in the local directory\n",
            "filename = os.path.join(os.getcwd(), \"data/KMeansData.csv\")\n",
            "kappos_data = {}\n",
            "with open(filename, \"r\") as fd:\n",
            "    for line in fd:\n",
            "        split_line = line.split(\",\")\n",
            "        kmeans_data[split_line[0]] = str(float(split_line[1]))\n",
            "print(kmeans_data)\n",
            "kappos_data_list = [x for x in kappos_data\n",
            "3. Question: # How to avoid defining a variable to hold a function result which might be needed only once\n",
            "3. Answer:\n",
            "# class Car:\n",
            "#     def __init__(self):\n",
            "#         self.car_number = 0\n",
            "\n",
            "\n",
            "# class CarTest:\n",
            "#     data = [1, 2, 3]\n",
            "\n",
            "\n",
            "# class CarTest2(CarTest):\n",
            "#     data = [100, 1000, 2000]\n",
            "#     def __init__(self):\n",
            "#         self.data = [100, 1000, 2000]\n",
            "\n",
            "\n",
            "class CarTest3:\n",
            "    data = [1, 2, 3]\n",
            "\n",
            "    def __init__(self):\n",
            "        self.data = [100, 1000, 2000]\n",
            "        print(self.data)\n",
            "\n",
            "\n",
            "class CarTest4:\n",
            "    self.data1 = [100, 1000, 2000]\n",
            "\n",
            "\n",
            "# Class inheritance\n",
            "# We cannot define any properties in this class because we don't know the base class\n",
            "\n",
            "\n",
            "# Inheritance in\n",
            "# Inherstinement\n",
            "# class Car:\n",
            "#     def __init__(self, car_number):\n",
            "#         self.car_number = car_number\n",
            "#\n",
            "#     def __add__\n",
            "4. Question: # Parsing structured text file in python\n",
            "4. Answer:\n",
            "# Importing data processing libraries\n",
            "import pandas as pd\n",
            "import numpy as np\n",
            "import os\n",
            "import re\n",
            "from re import findall\n",
            "import itertools as it\n",
            "import matplotlib.pyplot as plt\n",
            "from tqdm import tqdm\n",
            "from wordcloud import WordCloud\n",
            "import pickle\n",
            "\n",
            "# Importing data science libraries\n",
            "import statsmodels.api as sm\n",
            "from statsmodels.tsa.stattools import adfuller, adfuller_process\n",
            "from statsmodels.tsatools.utils import lagmat\n",
            "import seaborn as sns\n",
            "\n",
            "# Pandas utility functions\n",
            "\n",
            "# Import Data\n",
            "data = pd.read_excel('data_raw.xlsx')\n",
            "\n",
            "\n",
            "# Import required library\n",
            "import pysnooper\n",
            "from pandas_sns import jblostats, ksplot, jblike\n",
            "from pandas_sns import color_palette\n",
            "\n",
            "\n",
            "# Formatting Data\n",
            "data.dropna(inplace=True)\n",
            "\n",
            "# Make data a pandas dataframe and apply data types after formatting\n",
            "5. Question: # django-mptt get_descendants for a list of nodes\n",
            "5. Answer:\n",
            "urlpatterns = [\n",
            "    # get:\n",
            "    path(\n",
            "        \"nodes/\",\n",
            "        NodesNode.as_view(),\n",
            "        name=\"get-nodes\"\n",
            "    ),\n",
            "    # get parent:\n",
            "    path(\n",
            "        \"nodes/parent/\",\n",
            "        ParentNode.as_view(),\n",
            "        name=\"get-parents\"\n",
            "    ),\n",
            "    # get sibling:\n",
            "    path(\n",
            "        \"nodes/sibling/\",\n",
            "        SiblingsNode.as_view(),\n",
            "        name=\"get-siblings\"\n",
            "    ),\n",
            "    # delete a node:\n",
            "    path(\n",
            "        \"nodes/<int:node_id>/delete/\",\n",
            "        NodeDelete.as_view(),\n",
            "        name=\"delete-a-node\"\n",
            "    ),\n",
            "    # search nodes\n",
            "    path(\n",
            "        \"nodes/search/\",\n",
            "        NodesIndexView.as_view(),\n",
            "        name=\"search-nodes\"\n",
            "    ),\n",
            "    # post\n",
            "    path(\n",
            "        \"summaries/\",\n",
            "        NodesIndex\n",
            "6. Question: # dict of internal keys\n",
            "6. Answer:\n",
            "_dict_keymap = {}  # map all internal objects to human readable keys\n",
            "    _dynamic_keymaps.setdefault = _set_dynamic_keymap\n",
            "\n",
            "    def __init__(self, _args=None, _configured_widgets=None):\n",
            "        self._configured_widgets = _configured_widgets\n",
            "        super().__init__(_args, _configured_widgets=_configured_widgets)\n",
            "\n",
            "        self._configure_widgets(\"widgets\")\n",
            "\n",
            "    def _get_widgets(self):\n",
            "        \"\"\"Return a list of all child widgets.\n",
            "        \"\"\"\n",
            "        return self._widgets\n",
            "\n",
            "    def _set_widgets(self, w):\n",
            "        \"\"\"Store a reference to all widgets, so they do not get garbage.\n",
            "        \"\"\"\n",
            "        if not self._configured_widgets or w is None:\n",
            "            return\n",
            "\n",
            "        self._widgets[w] = weakref.ref(w, self.__del_refs)\n",
            "        try:\n",
            "            self._widgets[w].release\n",
            "7. Question: # Efficiently detect sign-changes in python\n",
            "7. Answer:\n",
            "# from itertools import count\n",
            "from itertools import cycle\n",
            "\n",
            "cnt = count()\n",
            "\n",
            "def find_sign_changes(data: list, sign: int, pos: tuple):\n",
            "    for i in range(len(data)):\n",
            "        x = data[i]\n",
            "        if not x[0] == sign and not sign == 0:\n",
            "            data[i] = pos\n",
            "        elif x[0] == sign and x[1] == pos:\n",
            "            # print(f\"sign {sign} position {pos}\")\n",
            "            return True\n",
            "    return False\n",
            "\n",
            "\n",
            "def process_data(path: str):\n",
            "    data = list()\n",
            "    for line in open(path).readlines():\n",
            "        line = line.rstrip()\n",
            "        if not line:\n",
            "            continue\n",
            "        line = line.split(',')\n",
            "        # print(line)\n",
            "        pos = int(line[5]), int(line[4])\n",
            "        data.append([pos, line[0], line[1], line[2], line[3], line[4]]\n"
          ]
        }
      ]
    },
    {
      "cell_type": "code",
      "source": [
        "# Generate answers, this will take some time\n",
        "batch_size = 64\n",
        "max_length = 256\n",
        "\n",
        "questions = [preproc(q) for q in dataset['train']['question']]\n",
        "results = generator(questions, max_length=max_length, num_return_sequences=1, batch_size=batch_size)"
      ],
      "metadata": {
        "colab": {
          "base_uri": "https://localhost:8080/"
        },
        "id": "M_kmeG8J6ICy",
        "outputId": "62b06a35-4853-4977-8a1f-75192767cffd"
      },
      "execution_count": null,
      "outputs": [
        {
          "output_type": "stream",
          "name": "stderr",
          "text": [
            "Setting `pad_token_id` to `eos_token_id`:50256 for open-end generation.\n",
            "Setting `pad_token_id` to `eos_token_id`:50256 for open-end generation.\n",
            "Setting `pad_token_id` to `eos_token_id`:50256 for open-end generation.\n",
            "Setting `pad_token_id` to `eos_token_id`:50256 for open-end generation.\n",
            "Setting `pad_token_id` to `eos_token_id`:50256 for open-end generation.\n",
            "Setting `pad_token_id` to `eos_token_id`:50256 for open-end generation.\n",
            "Setting `pad_token_id` to `eos_token_id`:50256 for open-end generation.\n",
            "Setting `pad_token_id` to `eos_token_id`:50256 for open-end generation.\n",
            "Setting `pad_token_id` to `eos_token_id`:50256 for open-end generation.\n",
            "Setting `pad_token_id` to `eos_token_id`:50256 for open-end generation.\n",
            "Setting `pad_token_id` to `eos_token_id`:50256 for open-end generation.\n",
            "Setting `pad_token_id` to `eos_token_id`:50256 for open-end generation.\n",
            "Setting `pad_token_id` to `eos_token_id`:50256 for open-end generation.\n",
            "Setting `pad_token_id` to `eos_token_id`:50256 for open-end generation.\n",
            "Setting `pad_token_id` to `eos_token_id`:50256 for open-end generation.\n",
            "Setting `pad_token_id` to `eos_token_id`:50256 for open-end generation.\n",
            "Setting `pad_token_id` to `eos_token_id`:50256 for open-end generation.\n",
            "Setting `pad_token_id` to `eos_token_id`:50256 for open-end generation.\n",
            "Setting `pad_token_id` to `eos_token_id`:50256 for open-end generation.\n",
            "Setting `pad_token_id` to `eos_token_id`:50256 for open-end generation.\n",
            "Setting `pad_token_id` to `eos_token_id`:50256 for open-end generation.\n",
            "Setting `pad_token_id` to `eos_token_id`:50256 for open-end generation.\n",
            "Setting `pad_token_id` to `eos_token_id`:50256 for open-end generation.\n",
            "Setting `pad_token_id` to `eos_token_id`:50256 for open-end generation.\n",
            "Setting `pad_token_id` to `eos_token_id`:50256 for open-end generation.\n",
            "Setting `pad_token_id` to `eos_token_id`:50256 for open-end generation.\n",
            "Setting `pad_token_id` to `eos_token_id`:50256 for open-end generation.\n",
            "Setting `pad_token_id` to `eos_token_id`:50256 for open-end generation.\n",
            "Setting `pad_token_id` to `eos_token_id`:50256 for open-end generation.\n",
            "Setting `pad_token_id` to `eos_token_id`:50256 for open-end generation.\n",
            "Setting `pad_token_id` to `eos_token_id`:50256 for open-end generation.\n",
            "Setting `pad_token_id` to `eos_token_id`:50256 for open-end generation.\n",
            "Setting `pad_token_id` to `eos_token_id`:50256 for open-end generation.\n"
          ]
        }
      ]
    },
    {
      "cell_type": "code",
      "source": [
        "def assign_generated(item, idx):\n",
        "    item['label'] = 1\n",
        "    item['text'] = preproc_answer(results[idx][0]['generated_text'])\n",
        "\n",
        "    return item\n",
        "\n",
        "train_generated = dataset['train'].map(assign_generated, with_indices=True)\n",
        "dataset['train'] = concatenate_datasets([dataset['train'], train_generated])\n",
        "\n",
        "print(dataset['train'][0])\n",
        "print(train_generated[0])\n",
        "\n",
        "assert len(train_generated) * 2 == len(dataset['train'])\n",
        "\n",
        "print(dataset['train'][0]['label'])\n",
        "print(dataset['train'][-1]['label'])"
      ],
      "metadata": {
        "colab": {
          "base_uri": "https://localhost:8080/"
        },
        "id": "o3i46re3_cxO",
        "outputId": "867ae937-0b93-44c6-da97-79dd404e1e2e"
      },
      "execution_count": null,
      "outputs": [
        {
          "output_type": "stream",
          "name": "stdout",
          "text": [
            "{'question_id': 21219262, 'question': 'Defining the name of a ManyToOne relationship in Django', 'text': \"class SpecificUserProfile(UserProfile):\\n    referrer = models.ForeignKey('self', related_name='referred')\\n\", 'label': 0}\n",
            "{'question_id': 21219262, 'question': 'Defining the name of a ManyToOne relationship in Django', 'text': 'def M2M_field_m2m(instance, m2m):\\n    class M2MField(ForeignObject):\\n        related_model = instance.__class__\\n        # https://docs.python.org/3/tutorial/datastructures.html#string-and-unicode-string\\n        # https://docs.python.org/2/reference/lexical_analysis.html#string-and-unicode-string-repr\\n        # https://docs.python.org/2/howto/descriptor-hints.html#dynamic-and-static-class-attributes\\n        # https://blog.miguelgrinberg.com/post/using-precursors-to-pythonic-interpreter.html\\n\\n        def __init__(self, related_model, to, from_fields, to_fields, **kwargs):\\n            # to_fields[0] is the object, not a field, as we were just dealing with the', 'label': 1}\n",
            "2052\n",
            "4104\n"
          ]
        }
      ]
    },
    {
      "cell_type": "code",
      "source": [
        "dataset = split_dataset(dataset)\n",
        "print(dataset)"
      ],
      "metadata": {
        "colab": {
          "base_uri": "https://localhost:8080/"
        },
        "id": "ckqlN581GUop",
        "outputId": "591580bd-63a1-47e1-9f17-c965cffaf114"
      },
      "execution_count": null,
      "outputs": [
        {
          "output_type": "stream",
          "name": "stdout",
          "text": [
            "DatasetDict({\n",
            "    train: Dataset({\n",
            "        features: ['question_id', 'question', 'text', 'label'],\n",
            "        num_rows: 3694\n",
            "    })\n",
            "    test: Dataset({\n",
            "        features: ['question_id', 'question', 'text', 'label'],\n",
            "        num_rows: 410\n",
            "    })\n",
            "})\n"
          ]
        }
      ]
    },
    {
      "cell_type": "code",
      "source": [
        "print(dataset['train'].features)\n",
        "print(dataset['test'].features)"
      ],
      "metadata": {
        "colab": {
          "base_uri": "https://localhost:8080/"
        },
        "id": "LmBgZESMJMLA",
        "outputId": "a3dce716-5c04-4e8a-e82a-0fb7f1090508"
      },
      "execution_count": null,
      "outputs": [
        {
          "output_type": "stream",
          "name": "stdout",
          "text": [
            "{'question_id': Value(dtype='int32', id=None), 'question': Value(dtype='string', id=None), 'text': Value(dtype='string', id=None), 'label': Value(dtype='int64', id=None)}\n",
            "{'question_id': Value(dtype='int32', id=None), 'question': Value(dtype='string', id=None), 'text': Value(dtype='string', id=None), 'label': Value(dtype='int64', id=None)}\n"
          ]
        }
      ]
    },
    {
      "cell_type": "code",
      "source": [
        "# Save\n",
        "!rm -rf staqc_man_python_codegen.hf\n",
        "dataset.save_to_disk(\"staqc_man_python_codegen.hf\")\n",
        "!rm -f staqc_man_python_codegen.hf.zip\n",
        "!zip -r staqc_man_python_codegen.hf.zip staqc_man_python_codegen.hf"
      ],
      "metadata": {
        "colab": {
          "base_uri": "https://localhost:8080/",
          "height": 260,
          "referenced_widgets": [
            "7f7ae2511fd4455eadf00db3cec67d1e",
            "f62541e2c9194f2bb448c194fc4f2b40",
            "6252b19b1aab49c589137aa08d0fa111",
            "851597046ea44e7480e88c1bdc855a2b",
            "405b19abf1fc4819bbf62c2901865712",
            "f1e440b8d1d54944beeedd537e0e20a0",
            "98d23f1a75264ca39a53e761a4b3b8c2",
            "f43a8153c7de47819fb4504a940b9107",
            "72316bf7caa64da097ca89fc597c71b0",
            "8363e728ceed4135bff080fbec143740",
            "635121ebd7104586abc16cb558b1801f",
            "bb994083c3f24ee89745ddee8183d7f1",
            "55d3118607bd43afb3dd55cca6bba91d",
            "f28041ae0057477b8bdfcce50419e663",
            "599930cfcea24fd587265cf4fd9e2b80",
            "12cd35a2fcaa4bbe8d35cdd61b84dbbb",
            "237f4e27f437487cabc82375e986f062",
            "515764a220d74ae3a85550fdbb474c14",
            "6451c37a9ac644ada317638a3408f080",
            "9b39bcff130c4e84bd87fbd4f1939eb4",
            "6cd2ebb88933481e95f515b7038a301f",
            "f1b2ff2767ca46278759044c8d465c9f"
          ]
        },
        "id": "ig7-fAYu-uWn",
        "outputId": "0f90ba43-bc49-4ec2-8473-8156c26a62ea"
      },
      "execution_count": null,
      "outputs": [
        {
          "output_type": "display_data",
          "data": {
            "text/plain": [
              "Saving the dataset (0/1 shards):   0%|          | 0/3694 [00:00<?, ? examples/s]"
            ],
            "application/vnd.jupyter.widget-view+json": {
              "version_major": 2,
              "version_minor": 0,
              "model_id": "7f7ae2511fd4455eadf00db3cec67d1e"
            }
          },
          "metadata": {}
        },
        {
          "output_type": "display_data",
          "data": {
            "text/plain": [
              "Saving the dataset (0/1 shards):   0%|          | 0/410 [00:00<?, ? examples/s]"
            ],
            "application/vnd.jupyter.widget-view+json": {
              "version_major": 2,
              "version_minor": 0,
              "model_id": "bb994083c3f24ee89745ddee8183d7f1"
            }
          },
          "metadata": {}
        },
        {
          "output_type": "stream",
          "name": "stdout",
          "text": [
            "  adding: staqc_man_python_codegen.hf/ (stored 0%)\n",
            "  adding: staqc_man_python_codegen.hf/dataset_dict.json (stored 0%)\n",
            "  adding: staqc_man_python_codegen.hf/train/ (stored 0%)\n",
            "  adding: staqc_man_python_codegen.hf/train/data-00000-of-00001.arrow (deflated 64%)\n",
            "  adding: staqc_man_python_codegen.hf/train/state.json (deflated 41%)\n",
            "  adding: staqc_man_python_codegen.hf/train/dataset_info.json (deflated 54%)\n",
            "  adding: staqc_man_python_codegen.hf/test/ (stored 0%)\n",
            "  adding: staqc_man_python_codegen.hf/test/data-00000-of-00001.arrow (deflated 61%)\n",
            "  adding: staqc_man_python_codegen.hf/test/state.json (deflated 42%)\n",
            "  adding: staqc_man_python_codegen.hf/test/dataset_info.json (deflated 54%)\n"
          ]
        }
      ]
    },
    {
      "cell_type": "code",
      "source": [
        "# Test save\n",
        "ds = load_from_disk('staqc_man_python_codegen.hf')\n",
        "print(ds)\n",
        "print(ds['train'][0]['text'])"
      ],
      "metadata": {
        "colab": {
          "base_uri": "https://localhost:8080/"
        },
        "id": "IaL3-dCJ-7CU",
        "outputId": "b5020441-35e0-437c-9f58-1bd01b1860ca"
      },
      "execution_count": null,
      "outputs": [
        {
          "output_type": "stream",
          "name": "stdout",
          "text": [
            "DatasetDict({\n",
            "    train: Dataset({\n",
            "        features: ['question_id', 'question', 'text', 'label'],\n",
            "        num_rows: 3694\n",
            "    })\n",
            "    test: Dataset({\n",
            "        features: ['question_id', 'question', 'text', 'label'],\n",
            "        num_rows: 410\n",
            "    })\n",
            "})\n",
            "offset = 0\n",
            "data1 = np.memmap('tmp', dtype='i', mode='r+', order='F',\n",
            "                  offset=0, shape=(size1))\n",
            "offset += size1*byte_size\n",
            "data2 = np.memmap('tmp', dtype='i', mode='r+', order='F',\n",
            "                  offset=offset, shape=(size2))\n",
            "offset += size1*byte_size\n",
            "data3 = np.memmap('tmp', dtype='i', mode='r+', order='F',\n",
            "                  offset=offset, shape=(size3))\n",
            "\n"
          ]
        }
      ]
    },
    {
      "cell_type": "code",
      "source": [],
      "metadata": {
        "id": "J2-elH6ZJtRJ"
      },
      "execution_count": null,
      "outputs": []
    }
  ]
}
{
  "nbformat": 4,
  "nbformat_minor": 0,
  "metadata": {
    "colab": {
      "provenance": [],
      "gpuType": "T4"
    },
    "kernelspec": {
      "name": "python3",
      "display_name": "Python 3"
    },
    "language_info": {
      "name": "python"
    },
    "accelerator": "GPU",
    "widgets": {
      "application/vnd.jupyter.widget-state+json": {
        "6958393a9c9741e1bdcb363c9d752e52": {
          "model_module": "@jupyter-widgets/controls",
          "model_name": "HBoxModel",
          "model_module_version": "1.5.0",
          "state": {
            "_dom_classes": [],
            "_model_module": "@jupyter-widgets/controls",
            "_model_module_version": "1.5.0",
            "_model_name": "HBoxModel",
            "_view_count": null,
            "_view_module": "@jupyter-widgets/controls",
            "_view_module_version": "1.5.0",
            "_view_name": "HBoxView",
            "box_style": "",
            "children": [
              "IPY_MODEL_09b7601f7f09422c9d320bdfd53f6102",
              "IPY_MODEL_0eff3d4db6914165a019249433c64aa2",
              "IPY_MODEL_434904b5c57843b291a0bdc9e2ad759b"
            ],
            "layout": "IPY_MODEL_5c313d97ec3a49098cfc24619e3ef150"
          }
        },
        "09b7601f7f09422c9d320bdfd53f6102": {
          "model_module": "@jupyter-widgets/controls",
          "model_name": "HTMLModel",
          "model_module_version": "1.5.0",
          "state": {
            "_dom_classes": [],
            "_model_module": "@jupyter-widgets/controls",
            "_model_module_version": "1.5.0",
            "_model_name": "HTMLModel",
            "_view_count": null,
            "_view_module": "@jupyter-widgets/controls",
            "_view_module_version": "1.5.0",
            "_view_name": "HTMLView",
            "description": "",
            "description_tooltip": null,
            "layout": "IPY_MODEL_248f8c0026a340899615804af4dc5cc7",
            "placeholder": "​",
            "style": "IPY_MODEL_f561014e52ad41e7b83c175227961623",
            "value": "Map: 100%"
          }
        },
        "0eff3d4db6914165a019249433c64aa2": {
          "model_module": "@jupyter-widgets/controls",
          "model_name": "FloatProgressModel",
          "model_module_version": "1.5.0",
          "state": {
            "_dom_classes": [],
            "_model_module": "@jupyter-widgets/controls",
            "_model_module_version": "1.5.0",
            "_model_name": "FloatProgressModel",
            "_view_count": null,
            "_view_module": "@jupyter-widgets/controls",
            "_view_module_version": "1.5.0",
            "_view_name": "ProgressView",
            "bar_style": "success",
            "description": "",
            "description_tooltip": null,
            "layout": "IPY_MODEL_d68c6f6f0a7c4f83af9d7f4ad0236b2f",
            "max": 77,
            "min": 0,
            "orientation": "horizontal",
            "style": "IPY_MODEL_d784b16ef3c44a0ea8ffb787c6de1654",
            "value": 77
          }
        },
        "434904b5c57843b291a0bdc9e2ad759b": {
          "model_module": "@jupyter-widgets/controls",
          "model_name": "HTMLModel",
          "model_module_version": "1.5.0",
          "state": {
            "_dom_classes": [],
            "_model_module": "@jupyter-widgets/controls",
            "_model_module_version": "1.5.0",
            "_model_name": "HTMLModel",
            "_view_count": null,
            "_view_module": "@jupyter-widgets/controls",
            "_view_module_version": "1.5.0",
            "_view_name": "HTMLView",
            "description": "",
            "description_tooltip": null,
            "layout": "IPY_MODEL_c829d302fc4449ba95c07d50c232c74a",
            "placeholder": "​",
            "style": "IPY_MODEL_3bb7d10ec69546178339c48f6daeaba3",
            "value": " 77/77 [00:00&lt;00:00, 452.25 examples/s]"
          }
        },
        "5c313d97ec3a49098cfc24619e3ef150": {
          "model_module": "@jupyter-widgets/base",
          "model_name": "LayoutModel",
          "model_module_version": "1.2.0",
          "state": {
            "_model_module": "@jupyter-widgets/base",
            "_model_module_version": "1.2.0",
            "_model_name": "LayoutModel",
            "_view_count": null,
            "_view_module": "@jupyter-widgets/base",
            "_view_module_version": "1.2.0",
            "_view_name": "LayoutView",
            "align_content": null,
            "align_items": null,
            "align_self": null,
            "border": null,
            "bottom": null,
            "display": null,
            "flex": null,
            "flex_flow": null,
            "grid_area": null,
            "grid_auto_columns": null,
            "grid_auto_flow": null,
            "grid_auto_rows": null,
            "grid_column": null,
            "grid_gap": null,
            "grid_row": null,
            "grid_template_areas": null,
            "grid_template_columns": null,
            "grid_template_rows": null,
            "height": null,
            "justify_content": null,
            "justify_items": null,
            "left": null,
            "margin": null,
            "max_height": null,
            "max_width": null,
            "min_height": null,
            "min_width": null,
            "object_fit": null,
            "object_position": null,
            "order": null,
            "overflow": null,
            "overflow_x": null,
            "overflow_y": null,
            "padding": null,
            "right": null,
            "top": null,
            "visibility": null,
            "width": null
          }
        },
        "248f8c0026a340899615804af4dc5cc7": {
          "model_module": "@jupyter-widgets/base",
          "model_name": "LayoutModel",
          "model_module_version": "1.2.0",
          "state": {
            "_model_module": "@jupyter-widgets/base",
            "_model_module_version": "1.2.0",
            "_model_name": "LayoutModel",
            "_view_count": null,
            "_view_module": "@jupyter-widgets/base",
            "_view_module_version": "1.2.0",
            "_view_name": "LayoutView",
            "align_content": null,
            "align_items": null,
            "align_self": null,
            "border": null,
            "bottom": null,
            "display": null,
            "flex": null,
            "flex_flow": null,
            "grid_area": null,
            "grid_auto_columns": null,
            "grid_auto_flow": null,
            "grid_auto_rows": null,
            "grid_column": null,
            "grid_gap": null,
            "grid_row": null,
            "grid_template_areas": null,
            "grid_template_columns": null,
            "grid_template_rows": null,
            "height": null,
            "justify_content": null,
            "justify_items": null,
            "left": null,
            "margin": null,
            "max_height": null,
            "max_width": null,
            "min_height": null,
            "min_width": null,
            "object_fit": null,
            "object_position": null,
            "order": null,
            "overflow": null,
            "overflow_x": null,
            "overflow_y": null,
            "padding": null,
            "right": null,
            "top": null,
            "visibility": null,
            "width": null
          }
        },
        "f561014e52ad41e7b83c175227961623": {
          "model_module": "@jupyter-widgets/controls",
          "model_name": "DescriptionStyleModel",
          "model_module_version": "1.5.0",
          "state": {
            "_model_module": "@jupyter-widgets/controls",
            "_model_module_version": "1.5.0",
            "_model_name": "DescriptionStyleModel",
            "_view_count": null,
            "_view_module": "@jupyter-widgets/base",
            "_view_module_version": "1.2.0",
            "_view_name": "StyleView",
            "description_width": ""
          }
        },
        "d68c6f6f0a7c4f83af9d7f4ad0236b2f": {
          "model_module": "@jupyter-widgets/base",
          "model_name": "LayoutModel",
          "model_module_version": "1.2.0",
          "state": {
            "_model_module": "@jupyter-widgets/base",
            "_model_module_version": "1.2.0",
            "_model_name": "LayoutModel",
            "_view_count": null,
            "_view_module": "@jupyter-widgets/base",
            "_view_module_version": "1.2.0",
            "_view_name": "LayoutView",
            "align_content": null,
            "align_items": null,
            "align_self": null,
            "border": null,
            "bottom": null,
            "display": null,
            "flex": null,
            "flex_flow": null,
            "grid_area": null,
            "grid_auto_columns": null,
            "grid_auto_flow": null,
            "grid_auto_rows": null,
            "grid_column": null,
            "grid_gap": null,
            "grid_row": null,
            "grid_template_areas": null,
            "grid_template_columns": null,
            "grid_template_rows": null,
            "height": null,
            "justify_content": null,
            "justify_items": null,
            "left": null,
            "margin": null,
            "max_height": null,
            "max_width": null,
            "min_height": null,
            "min_width": null,
            "object_fit": null,
            "object_position": null,
            "order": null,
            "overflow": null,
            "overflow_x": null,
            "overflow_y": null,
            "padding": null,
            "right": null,
            "top": null,
            "visibility": null,
            "width": null
          }
        },
        "d784b16ef3c44a0ea8ffb787c6de1654": {
          "model_module": "@jupyter-widgets/controls",
          "model_name": "ProgressStyleModel",
          "model_module_version": "1.5.0",
          "state": {
            "_model_module": "@jupyter-widgets/controls",
            "_model_module_version": "1.5.0",
            "_model_name": "ProgressStyleModel",
            "_view_count": null,
            "_view_module": "@jupyter-widgets/base",
            "_view_module_version": "1.2.0",
            "_view_name": "StyleView",
            "bar_color": null,
            "description_width": ""
          }
        },
        "c829d302fc4449ba95c07d50c232c74a": {
          "model_module": "@jupyter-widgets/base",
          "model_name": "LayoutModel",
          "model_module_version": "1.2.0",
          "state": {
            "_model_module": "@jupyter-widgets/base",
            "_model_module_version": "1.2.0",
            "_model_name": "LayoutModel",
            "_view_count": null,
            "_view_module": "@jupyter-widgets/base",
            "_view_module_version": "1.2.0",
            "_view_name": "LayoutView",
            "align_content": null,
            "align_items": null,
            "align_self": null,
            "border": null,
            "bottom": null,
            "display": null,
            "flex": null,
            "flex_flow": null,
            "grid_area": null,
            "grid_auto_columns": null,
            "grid_auto_flow": null,
            "grid_auto_rows": null,
            "grid_column": null,
            "grid_gap": null,
            "grid_row": null,
            "grid_template_areas": null,
            "grid_template_columns": null,
            "grid_template_rows": null,
            "height": null,
            "justify_content": null,
            "justify_items": null,
            "left": null,
            "margin": null,
            "max_height": null,
            "max_width": null,
            "min_height": null,
            "min_width": null,
            "object_fit": null,
            "object_position": null,
            "order": null,
            "overflow": null,
            "overflow_x": null,
            "overflow_y": null,
            "padding": null,
            "right": null,
            "top": null,
            "visibility": null,
            "width": null
          }
        },
        "3bb7d10ec69546178339c48f6daeaba3": {
          "model_module": "@jupyter-widgets/controls",
          "model_name": "DescriptionStyleModel",
          "model_module_version": "1.5.0",
          "state": {
            "_model_module": "@jupyter-widgets/controls",
            "_model_module_version": "1.5.0",
            "_model_name": "DescriptionStyleModel",
            "_view_count": null,
            "_view_module": "@jupyter-widgets/base",
            "_view_module_version": "1.2.0",
            "_view_name": "StyleView",
            "description_width": ""
          }
        }
      }
    }
  },
  "cells": [
    {
      "cell_type": "markdown",
      "source": [
        "# Finetuning\n",
        "\n",
        "Create custom dataset + finetune a bert model on it\n",
        "\n",
        "## Structure\n",
        "\n",
        "- `drive/MyDrive/Colab Notebooks/nlp2/NLPA-main.zip` is the zipped repo\n",
        "\n",
        "---"
      ],
      "metadata": {
        "id": "PyA7Gq1IbOqn"
      }
    },
    {
      "cell_type": "code",
      "source": [
        "![ -e \"staqc_man_python_codegen.hf\" ] || unzip drive/MyDrive/\"Colab Notebooks/nlp2 (1)\"/staqc*.zip > /dev/null\n",
        "# !unzip drive/MyDrive/\"Colab Notebooks/nlp2 (1)\"/staqc*.zip > /dev/null"
      ],
      "metadata": {
        "id": "n6G_ximLSgBi"
      },
      "execution_count": null,
      "outputs": []
    },
    {
      "cell_type": "markdown",
      "source": [
        "---"
      ],
      "metadata": {
        "id": "Xn93ZcRUSgjV"
      }
    },
    {
      "cell_type": "code",
      "source": [
        "!pip install datasets 'transformers[torch]' evaluate accelerate -q"
      ],
      "metadata": {
        "id": "s38IBy33xnD5"
      },
      "execution_count": null,
      "outputs": []
    },
    {
      "cell_type": "markdown",
      "source": [
        "---"
      ],
      "metadata": {
        "id": "jpC4bmoXT38h"
      }
    },
    {
      "cell_type": "code",
      "source": [
        "!rm -rf saved_model training.zip test_trainer"
      ],
      "metadata": {
        "id": "RctgLCJV28JW"
      },
      "execution_count": null,
      "outputs": []
    },
    {
      "cell_type": "code",
      "execution_count": null,
      "metadata": {
        "id": "RAV0LQhcxT_w"
      },
      "outputs": [],
      "source": [
        "from datasets import load_dataset, concatenate_datasets, load_from_disk\n",
        "from transformers import AutoTokenizer, AutoModelForSequenceClassification, TrainerCallback\n",
        "import matplotlib.pyplot as plt"
      ]
    },
    {
      "cell_type": "code",
      "source": [
        "# dataset = load_from_disk('staqc_man_python_codegen.hf')\n",
        "# dataset = load_from_disk('staqc_man_python_codegen_source.hf')\n",
        "dataset = load_from_disk('staqc_man_python_codegen_comments.hf')\n",
        "print(dataset)\n",
        "print(dataset['train'][0]['text'])"
      ],
      "metadata": {
        "colab": {
          "base_uri": "https://localhost:8080/"
        },
        "id": "HNbhX4Scu_Pr",
        "outputId": "5f108055-2fa2-480f-aea0-26b3dd4de8a0"
      },
      "execution_count": null,
      "outputs": [
        {
          "output_type": "stream",
          "name": "stdout",
          "text": [
            "DatasetDict({\n",
            "    train: Dataset({\n",
            "        features: ['question_id', 'question', 'text', 'label'],\n",
            "        num_rows: 2008\n",
            "    })\n",
            "    test: Dataset({\n",
            "        features: ['question_id', 'question', 'text', 'label'],\n",
            "        num_rows: 77\n",
            "    })\n",
            "})\n",
            "# this is the root factory, you can set an __acl__ here for all resources\n",
            "# set ACL here for *all* objects of type Foo\n",
            "# get a database connection\n",
            "# this __acl__ is computed dynamically based on the specific object\n",
            "# allow any authenticated user to view Bar objects\n"
          ]
        }
      ]
    },
    {
      "cell_type": "code",
      "source": [
        "# TODO : Change tokenizer\n",
        "tokenizer = AutoTokenizer.from_pretrained(\"bert-base-cased\")\n",
        "\n",
        "\n",
        "def tokenize_function(examples):\n",
        "    return tokenizer(examples[\"text\"], padding=\"max_length\", truncation=True)"
      ],
      "metadata": {
        "id": "8ktFuxotxxaO",
        "colab": {
          "base_uri": "https://localhost:8080/"
        },
        "outputId": "f3da458c-f0da-41a7-a76d-84f5e782ab1c"
      },
      "execution_count": null,
      "outputs": [
        {
          "output_type": "stream",
          "name": "stderr",
          "text": [
            "/usr/local/lib/python3.10/dist-packages/huggingface_hub/utils/_token.py:88: UserWarning: \n",
            "The secret `HF_TOKEN` does not exist in your Colab secrets.\n",
            "To authenticate with the Hugging Face Hub, create a token in your settings tab (https://huggingface.co/settings/tokens), set it as secret in your Google Colab and restart your session.\n",
            "You will be able to reuse this secret in all of your notebooks.\n",
            "Please note that authentication is recommended but still optional to access public models or datasets.\n",
            "  warnings.warn(\n"
          ]
        }
      ]
    },
    {
      "cell_type": "code",
      "source": [
        "# small_train_dataset = dataset[\"train\"].shuffle(seed=42).select(range(500)).map(tokenize_function, batched=True)\n",
        "small_train_dataset = dataset[\"train\"].shuffle(seed=42).map(tokenize_function, batched=True)\n",
        "# small_eval_dataset = dataset[\"test\"].shuffle(seed=42).select(range(100)).map(tokenize_function, batched=True)\n",
        "small_eval_dataset = dataset[\"test\"].shuffle(seed=42).map(tokenize_function, batched=True)\n",
        "\n",
        "# small_train_dataset = dataset[\"train\"].shuffle(seed=42).select(range(1000)).map(tokenize_function, batched=True)\n",
        "# small_eval_dataset = dataset[\"test\"].shuffle(seed=42).select(range(1000)).map(tokenize_function, batched=True)"
      ],
      "metadata": {
        "colab": {
          "base_uri": "https://localhost:8080/",
          "height": 49,
          "referenced_widgets": [
            "6958393a9c9741e1bdcb363c9d752e52",
            "09b7601f7f09422c9d320bdfd53f6102",
            "0eff3d4db6914165a019249433c64aa2",
            "434904b5c57843b291a0bdc9e2ad759b",
            "5c313d97ec3a49098cfc24619e3ef150",
            "248f8c0026a340899615804af4dc5cc7",
            "f561014e52ad41e7b83c175227961623",
            "d68c6f6f0a7c4f83af9d7f4ad0236b2f",
            "d784b16ef3c44a0ea8ffb787c6de1654",
            "c829d302fc4449ba95c07d50c232c74a",
            "3bb7d10ec69546178339c48f6daeaba3"
          ]
        },
        "id": "rwY6MjHcx1Pv",
        "outputId": "0bd37eb9-04b1-4986-83dd-95e68929bf6f"
      },
      "execution_count": null,
      "outputs": [
        {
          "output_type": "display_data",
          "data": {
            "text/plain": [
              "Map:   0%|          | 0/77 [00:00<?, ? examples/s]"
            ],
            "application/vnd.jupyter.widget-view+json": {
              "version_major": 2,
              "version_minor": 0,
              "model_id": "6958393a9c9741e1bdcb363c9d752e52"
            }
          },
          "metadata": {}
        }
      ]
    },
    {
      "cell_type": "code",
      "source": [
        "model = AutoModelForSequenceClassification.from_pretrained(\"bert-base-cased\", num_labels=2)"
      ],
      "metadata": {
        "colab": {
          "base_uri": "https://localhost:8080/"
        },
        "id": "3owh6iE3x37o",
        "outputId": "7dce926a-ecf3-4268-ddf7-b89c13f688bc"
      },
      "execution_count": null,
      "outputs": [
        {
          "output_type": "stream",
          "name": "stderr",
          "text": [
            "Some weights of BertForSequenceClassification were not initialized from the model checkpoint at bert-base-cased and are newly initialized: ['classifier.bias', 'classifier.weight']\n",
            "You should probably TRAIN this model on a down-stream task to be able to use it for predictions and inference.\n"
          ]
        }
      ]
    },
    {
      "cell_type": "code",
      "source": [
        "from transformers import TrainingArguments, Trainer\n",
        "\n",
        "batch_size = 16\n",
        "training_args = TrainingArguments(output_dir=\"test_trainer\", evaluation_strategy=\"epoch\", per_device_train_batch_size=batch_size,)"
      ],
      "metadata": {
        "id": "-J5ARNOc0IOJ"
      },
      "execution_count": null,
      "outputs": []
    },
    {
      "cell_type": "code",
      "source": [
        "import numpy as np\n",
        "import evaluate\n",
        "\n",
        "metric = evaluate.load(\"accuracy\")\n",
        "\n",
        "def compute_metrics(eval_pred):\n",
        "    logits, labels = eval_pred\n",
        "    predictions = np.argmax(logits, axis=-1)\n",
        "    return metric.compute(predictions=predictions, references=labels)"
      ],
      "metadata": {
        "id": "ermm8WrN0z_C"
      },
      "execution_count": null,
      "outputs": []
    },
    {
      "cell_type": "code",
      "source": [
        "trainer = Trainer(\n",
        "    model=model,\n",
        "    args=training_args,\n",
        "    train_dataset=small_train_dataset,\n",
        "    eval_dataset=small_eval_dataset,\n",
        "    compute_metrics=compute_metrics,\n",
        ")"
      ],
      "metadata": {
        "id": "015ZkRv80XGF"
      },
      "execution_count": null,
      "outputs": []
    },
    {
      "cell_type": "code",
      "source": [
        "train_history = trainer.train()"
      ],
      "metadata": {
        "colab": {
          "base_uri": "https://localhost:8080/",
          "height": 169
        },
        "id": "cgjz0PET0qG-",
        "outputId": "a6801446-6ca5-48d5-adf2-80794cec13fc"
      },
      "execution_count": null,
      "outputs": [
        {
          "output_type": "display_data",
          "data": {
            "text/plain": [
              "<IPython.core.display.HTML object>"
            ],
            "text/html": [
              "\n",
              "    <div>\n",
              "      \n",
              "      <progress value='378' max='378' style='width:300px; height:20px; vertical-align: middle;'></progress>\n",
              "      [378/378 09:17, Epoch 3/3]\n",
              "    </div>\n",
              "    <table border=\"1\" class=\"dataframe\">\n",
              "  <thead>\n",
              " <tr style=\"text-align: left;\">\n",
              "      <th>Epoch</th>\n",
              "      <th>Training Loss</th>\n",
              "      <th>Validation Loss</th>\n",
              "      <th>Accuracy</th>\n",
              "    </tr>\n",
              "  </thead>\n",
              "  <tbody>\n",
              "    <tr>\n",
              "      <td>1</td>\n",
              "      <td>No log</td>\n",
              "      <td>1.679910</td>\n",
              "      <td>0.168831</td>\n",
              "    </tr>\n",
              "    <tr>\n",
              "      <td>2</td>\n",
              "      <td>No log</td>\n",
              "      <td>0.946335</td>\n",
              "      <td>0.584416</td>\n",
              "    </tr>\n",
              "    <tr>\n",
              "      <td>3</td>\n",
              "      <td>No log</td>\n",
              "      <td>2.215430</td>\n",
              "      <td>0.428571</td>\n",
              "    </tr>\n",
              "  </tbody>\n",
              "</table><p>"
            ]
          },
          "metadata": {}
        }
      ]
    },
    {
      "cell_type": "code",
      "source": [
        "eval_losses = []\n",
        "for log in trainer.state.log_history:\n",
        "    if 'eval_loss' in log:\n",
        "        eval_losses.append(log['eval_loss'])\n",
        "\n",
        "eval_accuracies = []\n",
        "for log in trainer.state.log_history:\n",
        "    if 'eval_accuracy' in log:\n",
        "        eval_accuracies.append(log['eval_accuracy'])\n",
        "\n",
        "plt.title(\"Loss\")\n",
        "plt.plot(eval_losses, label=\"Eval Loss\")\n",
        "plt.xlabel(\"Training Steps\")\n",
        "plt.ylabel(\"Loss\")\n",
        "plt.legend()\n",
        "plt.show()\n",
        "\n",
        "plt.title(\"Accuracy\")\n",
        "plt.plot(eval_accuracies, label=\"Eval Accuracy\")\n",
        "plt.xlabel(\"Training Steps\")\n",
        "plt.ylabel(\"Accuracy\")\n",
        "plt.legend()\n",
        "plt.show()"
      ],
      "metadata": {
        "colab": {
          "base_uri": "https://localhost:8080/",
          "height": 927
        },
        "id": "vrDsdNGtW4C-",
        "outputId": "8b3a3782-62b5-496c-deab-a5837b79ac97"
      },
      "execution_count": null,
      "outputs": [
        {
          "output_type": "display_data",
          "data": {
            "text/plain": [
              "<Figure size 640x480 with 1 Axes>"
            ],
            "image/png": "[encoded data removed]"
          },
          "metadata": {}
        },
        {
          "output_type": "display_data",
          "data": {
            "text/plain": [
              "<Figure size 640x480 with 1 Axes>"
            ],
            "image/png": "[encoded data removed]"
          },
          "metadata": {}
        }
      ]
    },
    {
      "cell_type": "code",
      "source": [
        "# Save everything\n",
        "model.save_pretrained(\"./saved_model\")\n",
        "trainer.save_model(\"./saved_model/trainer\")\n",
        "tokenizer.save_pretrained(\"./saved_model\")\n",
        "!rm -f training.zip && zip -r training.zip saved_model"
      ],
      "metadata": {
        "colab": {
          "base_uri": "https://localhost:8080/"
        },
        "id": "bKt-yl2I1-33",
        "outputId": "3c1c8034-a017-48c8-bfa7-07bd1ce39efa"
      },
      "execution_count": null,
      "outputs": [
        {
          "output_type": "stream",
          "name": "stdout",
          "text": [
            "  adding: saved_model/ (stored 0%)\n",
            "  adding: saved_model/tokenizer_config.json (deflated 76%)\n",
            "  adding: saved_model/tokenizer.json (deflated 70%)\n",
            "  adding: saved_model/vocab.txt (deflated 49%)\n",
            "  adding: saved_model/model.safetensors (deflated 7%)\n",
            "  adding: saved_model/special_tokens_map.json (deflated 42%)\n",
            "  adding: saved_model/trainer/ (stored 0%)\n",
            "  adding: saved_model/trainer/model.safetensors (deflated 7%)\n",
            "  adding: saved_model/trainer/config.json (deflated 49%)\n",
            "  adding: saved_model/trainer/training_args.bin (deflated 51%)\n",
            "  adding: saved_model/config.json (deflated 49%)\n"
          ]
        }
      ]
    }
  ]
}